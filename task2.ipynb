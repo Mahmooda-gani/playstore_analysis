{
 "cells": [
  {
   "cell_type": "code",
   "execution_count": null,
   "id": "ee7efb33-367b-4125-a64a-787c39764a1a",
   "metadata": {},
   "outputs": [],
   "source": [
    "import pandas as pd\n",
    "import numpy as np\n",
    "import plotly.express as px\n",
    "import plotly.io as pio\n",
    "from sklearn.model_selection import train_test_split\n",
    "from sklearn.ensemble import RandomForestRegressor\n",
    "from sklearn.metrics import mean_squared_error, r2_score\n",
    "from nltk.sentiment.vader import SentimentIntensityAnalyzer\n",
    "import nltk\n",
    "import webbrowser\n",
    "import os"
   ]
  },
  {
   "cell_type": "code",
   "execution_count": null,
   "id": "bc7d5f0d-8f2a-4518-a5a9-52e7d47b0aed",
   "metadata": {},
   "outputs": [],
   "source": [
    "sia=SentimentIntensityAnalyzer()"
   ]
  },
  {
   "cell_type": "code",
   "execution_count": null,
   "id": "27b38257-c165-4e25-83b0-aaf39da1a885",
   "metadata": {},
   "outputs": [],
   "source": [
    "apps_df= pd.read_csv('PlayStoreData.csv')\n",
    "reviews_df=pd.read_csv('UserReviews.csv')"
   ]
  },
  {
   "cell_type": "code",
   "execution_count": null,
   "id": "47199019-23bc-4bc1-aa97-abf7c42c166b",
   "metadata": {},
   "outputs": [],
   "source": [
    "apps_df.count()"
   ]
  },
  {
   "cell_type": "code",
   "execution_count": null,
   "id": "3d9c880b-a478-46f0-ab3c-5c56f4db6e71",
   "metadata": {},
   "outputs": [],
   "source": [
    "apps_df.head()"
   ]
  },
  {
   "cell_type": "code",
   "execution_count": null,
   "id": "eeb5ac1e-2587-4f03-ac56-4cfd7caefa3d",
   "metadata": {},
   "outputs": [],
   "source": [
    "apps_df[\"Installs\"] = apps_df[\"Installs\"].replace({\"[,+]\": \"\"}, regex=True)\n",
    "apps_df[\"Installs\"] = apps_df[\"Installs\"].replace({\"Free\": np.nan})\n",
    "apps_df[\"Installs\"] = pd.to_numeric(apps_df[\"Installs\"], errors=\"coerce\")\n",
    "apps_df[\"Installs\"] = apps_df[\"Installs\"].fillna(0).astype(int)"
   ]
  },
  {
   "cell_type": "code",
   "execution_count": null,
   "id": "dceb9f9a-9414-40a0-89bd-cfdd1345d5a9",
   "metadata": {},
   "outputs": [],
   "source": [
    "#Now we have removed the unwantes symbols in the column\n",
    "apps_df.head()"
   ]
  },
  {
   "cell_type": "code",
   "execution_count": null,
   "id": "396c3a62-9349-4f66-9f27-d0cbf845e179",
   "metadata": {},
   "outputs": [],
   "source": [
    "#Here we will change the approriate datatype for each column\n",
    "def convert_price(price):\n",
    "    try:\n",
    "        if price == 'Free':\n",
    "            return 0  \n",
    "        if isinstance(price, str) and price.startswith('$'):\n",
    "            return int(float(price.replace('$', '')))  # Remove $ and convert to int\n",
    "        return 0  # Default value for invalid or unexpected entries\n",
    "    except ValueError:\n",
    "        return 0"
   ]
  },
  {
   "cell_type": "code",
   "execution_count": null,
   "id": "69a53aad-cbd0-4721-b76a-8dcc55a6e9a5",
   "metadata": {},
   "outputs": [],
   "source": [
    "apps_df['Price'] = apps_df['Price'].apply(convert_price)"
   ]
  },
  {
   "cell_type": "code",
   "execution_count": null,
   "id": "363dd37c-a008-45d4-bc1a-17bd1e789fd7",
   "metadata": {},
   "outputs": [],
   "source": [
    "#The datatype for price column is changed\n",
    "apps_df.dtypes"
   ]
  },
  {
   "cell_type": "code",
   "execution_count": null,
   "id": "03878f61-e038-4998-bce4-a4350b845a83",
   "metadata": {},
   "outputs": [],
   "source": [
    "def convert_to_mb(size):\n",
    "    if size.endswith(\"M\"):\n",
    "        return float(size.replace(\"M\", \"\"))  \n",
    "    elif size.endswith(\"K\"):\n",
    "        return float(size.replace(\"K\", \"\")) * 0.001  \n",
    "    else:\n",
    "        return None"
   ]
  },
  {
   "cell_type": "code",
   "execution_count": null,
   "id": "9f0398e6-aa70-48d1-9142-39a991e1d838",
   "metadata": {},
   "outputs": [],
   "source": [
    "#Here we have chnaged the format for size column\n",
    "apps_df[\"size_in_MB\"] = apps_df[\"Size\"].apply(convert_to_mb)"
   ]
  },
  {
   "cell_type": "code",
   "execution_count": null,
   "id": "cfae32a4-770d-428b-adfd-513f71988be5",
   "metadata": {},
   "outputs": [],
   "source": [
    "apps_df.dtypes"
   ]
  },
  {
   "cell_type": "code",
   "execution_count": null,
   "id": "cea03995-c84d-4e61-a601-d9ebff8dd425",
   "metadata": {},
   "outputs": [],
   "source": [
    "def convert_android_ver(version):\n",
    "    if isinstance(version, str):\n",
    "        version = version.strip()  # Remove leading/trailing spaces\n",
    "        if version == 'Varies with device' or not version:  # Handle 'Varies with device' or empty values\n",
    "            return None  # Keep it as None for invalid entries\n",
    "        try:\n",
    "            # Split by space and keep only the first part (the version number)\n",
    "            version = version.split(' ')[0]\n",
    "            return version\n",
    "        except Exception:\n",
    "            return None  # In case of any error, return None\n",
    "    return None  # Return None if not a valid string"
   ]
  },
  {
   "cell_type": "code",
   "execution_count": null,
   "id": "f0a02a97-3b23-4240-835f-f66137b2b4a4",
   "metadata": {},
   "outputs": [],
   "source": [
    "apps_df['Android Ver'] = apps_df['Android Ver'].apply(convert_android_ver)"
   ]
  },
  {
   "cell_type": "code",
   "execution_count": null,
   "id": "923b7a7a-c135-4e9c-8c0a-7f1013c40504",
   "metadata": {},
   "outputs": [],
   "source": [
    "print(apps_df[['App', 'Android Ver']])"
   ]
  },
  {
   "cell_type": "code",
   "execution_count": null,
   "id": "67aa30da-c238-42fe-9aef-7fac1f4a1459",
   "metadata": {},
   "outputs": [],
   "source": [
    "print(apps_df['Android Ver'].count())"
   ]
  },
  {
   "cell_type": "code",
   "execution_count": null,
   "id": "f60bbc98-36e5-4b9b-ae85-712387aaa690",
   "metadata": {},
   "outputs": [],
   "source": [
    "apps_df.head()"
   ]
  },
  {
   "cell_type": "code",
   "execution_count": null,
   "id": "b04e8e7f-2293-4e0f-b905-59d30539ae43",
   "metadata": {},
   "outputs": [],
   "source": [
    "apps_df['Android Ver'] = pd.to_numeric(apps_df['Android Ver'], errors='coerce')"
   ]
  },
  {
   "cell_type": "code",
   "execution_count": null,
   "id": "b4c14959-ddda-472c-966e-c7377789bbb4",
   "metadata": {},
   "outputs": [],
   "source": [
    "apps_df.dtypes"
   ]
  },
  {
   "cell_type": "code",
   "execution_count": null,
   "id": "5a5fc69b-e019-4fde-98ce-999cd0303906",
   "metadata": {},
   "outputs": [],
   "source": [
    "apps_df['Revenue'] = apps_df['Installs'] * apps_df['Price']"
   ]
  },
  {
   "cell_type": "code",
   "execution_count": null,
   "id": "1a6da2c3-3b6b-4ab0-a5f1-4f9ea87e9f04",
   "metadata": {},
   "outputs": [],
   "source": [
    "apps_df.dtypes"
   ]
  },
  {
   "cell_type": "code",
   "execution_count": null,
   "id": "dfd60eb9-1c86-4bfb-80c1-de224720e786",
   "metadata": {},
   "outputs": [],
   "source": [
    "filtered_df = apps_df[\n",
    "    (apps_df['Installs'] >= 10000) &                    # Filter for installs >= 10,000\n",
    "    (apps_df['Revenue'] >= 10000) &                    # Filter for revenue >= 10,000\n",
    "    (apps_df['Android Ver'] > 4) &                     # Filter for Android version > 4\n",
    "    (apps_df['size_in_MB'] > 15) &                     # Filter for apps with size greater than 15 MB\n",
    "    (apps_df['Content Rating'] == 'Everyone') &        # Filter for 'Everyone' content rating\n",
    "    (apps_df['App'].str.len() <= 30)             # Filter for app names with length <= 30\n",
    "]"
   ]
  },
  {
   "cell_type": "code",
   "execution_count": null,
   "id": "9427fef3-0171-4c31-b30f-7728ec4e2c39",
   "metadata": {},
   "outputs": [],
   "source": [
    "#Now we have filtered the dataset\n",
    "filtered_df.count()"
   ]
  },
  {
   "cell_type": "code",
   "execution_count": null,
   "id": "6dbc0510-9a52-4a2e-bbf6-fbc4408e5c19",
   "metadata": {},
   "outputs": [],
   "source": [
    "top_categories = filtered_df.groupby('Category')['Installs'].sum().nlargest(3).index"
   ]
  },
  {
   "cell_type": "code",
   "execution_count": null,
   "id": "d34e4b8b-68a8-4d24-9efe-c87ae22c3ff2",
   "metadata": {},
   "outputs": [],
   "source": [
    "top_filtered_df = filtered_df[filtered_df['Category'].isin(top_categories)]"
   ]
  },
  {
   "cell_type": "code",
   "execution_count": null,
   "id": "530e20fe-f909-4417-b8d5-635528382e61",
   "metadata": {},
   "outputs": [],
   "source": [
    "top_filtered_df.count()"
   ]
  },
  {
   "cell_type": "code",
   "execution_count": null,
   "id": "6558ac7a-987b-460f-b84a-f3d754d3f3d1",
   "metadata": {},
   "outputs": [],
   "source": [
    "agg_data = top_filtered_df.groupby(['Category', 'Type']).agg({\n",
    "    'Installs': 'mean',\n",
    "    'Revenue': 'mean'\n",
    "}).reset_index()"
   ]
  },
  {
   "cell_type": "code",
   "execution_count": null,
   "id": "85185ff1-df04-470e-aee6-116d4802578e",
   "metadata": {},
   "outputs": [],
   "source": [
    "categories = agg_data['Category'].unique()\n",
    "types = agg_data['Type'].unique()"
   ]
  },
  {
   "cell_type": "code",
   "execution_count": null,
   "id": "3e671367-1366-4207-8833-6ff87b34084b",
   "metadata": {},
   "outputs": [],
   "source": [
    "import plotly.graph_objects as go"
   ]
  },
  {
   "cell_type": "code",
   "execution_count": null,
   "id": "d6e55edf-7770-4e13-843f-fa71691b62ac",
   "metadata": {},
   "outputs": [],
   "source": [
    "from IPython.display import display"
   ]
  },
  {
   "cell_type": "code",
   "execution_count": null,
   "id": "a4116442-a408-4421-aea6-c4d65c36343b",
   "metadata": {},
   "outputs": [],
   "source": [
    "html_files_path=\"./\"\n",
    "if not os.path.exists(html_files_path):\n",
    "    os.makedirs(html_files_path)"
   ]
  },
  {
   "cell_type": "code",
   "execution_count": null,
   "id": "6d95d5b1-a478-4f60-b562-d82a2d3ce186",
   "metadata": {},
   "outputs": [],
   "source": [
    "plot_containers=\"\""
   ]
  },
  {
   "cell_type": "code",
   "execution_count": null,
   "id": "d6ad3377-f1d8-4e27-9fa3-a7499cd4443e",
   "metadata": {},
   "outputs": [],
   "source": [
    "# Save each Plotly figure to an HTML file\n",
    "def save_plot_as_html(fig, filename, insight):\n",
    "    global plot_containers\n",
    "    filepath = os.path.join(html_files_path, filename)\n",
    "    html_content = pio.to_html(fig, full_html=False, include_plotlyjs='inline')\n",
    "    # Append the plot and its insight to plot_containers\n",
    "    plot_containers += f\"\"\"\n",
    "    <div class=\"plot-container\" id=\"{filename}\" onclick=\"openPlot('{filename}')\">\n",
    "        <div class=\"plot\">{html_content}</div>\n",
    "        <div class=\"insights\">{insight}</div>\n",
    "    </div>\n",
    "    \"\"\"\n",
    "    fig.write_html(filepath, full_html=False, include_plotlyjs='inline')"
   ]
  },
  {
   "cell_type": "code",
   "execution_count": null,
   "id": "e9459f8c-444b-4913-9ee3-af7e231ab27f",
   "metadata": {},
   "outputs": [],
   "source": [
    "plot_width=400\n",
    "plot_height=300\n",
    "plot_bg_color='black'\n",
    "text_color='white'\n",
    "title_font={'size':16}\n",
    "axis_font={'size':12}"
   ]
  },
  {
   "cell_type": "code",
   "execution_count": null,
   "id": "713d7f50-0078-4922-bf93-1d1bc1ef08b6",
   "metadata": {},
   "outputs": [],
   "source": [
    "fig2 = go.Figure()"
   ]
  },
  {
   "cell_type": "code",
   "execution_count": null,
   "id": "4163f487-a64d-4c48-917e-18052bd3bc01",
   "metadata": {},
   "outputs": [],
   "source": [
    "for t in types:\n",
    "    fig2.add_trace(go.Bar(\n",
    "        x=agg_data[agg_data['Type'] == t]['Category'],\n",
    "        y=agg_data[agg_data['Type'] == t]['Installs'],\n",
    "        name=f'Avg Installs ({t})',\n",
    "        marker=dict(opacity=0.7)\n",
    "    ))\n",
    "for t in types:\n",
    "    fig2.add_trace(go.Scatter(\n",
    "        x=agg_data[agg_data['Type'] == t]['Category'],\n",
    "        y=agg_data[agg_data['Type'] == t]['Revenue'],\n",
    "        mode='lines+markers',\n",
    "        name=f'Avg Revenue ({t})',\n",
    "        yaxis='y2'\n",
    "    ))\n",
    "fig2.update_layout(\n",
    "    title=\"Comparison of Average Installs and Revenue for Free vs Paid Apps\",\n",
    "    xaxis=dict(title='Category'),\n",
    "    yaxis=dict(title='Average Installs', side='left'),\n",
    "    yaxis2=dict(title='Average Revenue', overlaying='y', side='right', showgrid=False),\n",
    "    barmode='group',\n",
    "    legend=dict(title='Metrics'),\n",
    "    template='plotly'\n",
    ")\n",
    "fig2.update_layout(\n",
    "        xaxis_title='Category',\n",
    "        yaxis_title='Average Installation',\n",
    "        plot_bgcolor='black',\n",
    "        paper_bgcolor='black',\n",
    "        font_color='white',\n",
    "        title_font=dict(size=16),\n",
    "        xaxis=dict(title_font=dict(size=12)),\n",
    "        yaxis=dict(title_font=dict(size=12)),\n",
    "        margin=dict(l=20, r=20, t=40, b=20)\n",
    ")\n",
    "save_plot_as_html(fig2, \"Dual-axis chart.html\", \"This is a dual-axis plot\")"
   ]
  },
  {
   "cell_type": "code",
   "execution_count": null,
   "id": "780b96f3-2c2a-406d-986e-4ed1b4062437",
   "metadata": {},
   "outputs": [],
   "source": [
    "fig2.show()"
   ]
  },
  {
   "cell_type": "code",
   "execution_count": null,
   "id": "678b12c8-7ce6-451b-881d-c91962fed064",
   "metadata": {},
   "outputs": [],
   "source": [
    "dashboard_html = \"\"\"\n",
    "<!DOCTYPE html>\n",
    "<html lang=\"en\">\n",
    "<head>\n",
    "    <meta charset=\"UTF-8\">\n",
    "    <meta name=\"viewport\" content=\"width=device-width, initial-scale=1.0\">\n",
    "    <title>Analytics Dashboard</title>\n",
    "    <style>\n",
    "        body {{\n",
    "            font-family: Arial, sans-serif;\n",
    "            background-color: #333;\n",
    "            color: #fff;\n",
    "            margin: 0;\n",
    "            padding: 0;\n",
    "        }}\n",
    "        .header {{\n",
    "            display: flex;\n",
    "            align-items: center;\n",
    "            justify-content: center;\n",
    "            padding: 20px;\n",
    "            background-color: #444;\n",
    "        }}\n",
    "        .header img {{\n",
    "            margin: 0 10px;\n",
    "            height: 50px;\n",
    "        }}\n",
    "        .container {{\n",
    "            display: flex;\n",
    "            flex-wrap: wrap;\n",
    "            justify-content: center;\n",
    "            padding: 20px;\n",
    "        }}\n",
    "        .plot-container {{\n",
    "            border: 2px solid #555;\n",
    "            margin: 10px;\n",
    "            padding: 10px;\n",
    "            width: {plot_width}px;\n",
    "            height: {plot_height}px;\n",
    "            overflow: hidden;\n",
    "            position: relative;\n",
    "            cursor: pointer;\n",
    "        }}\n",
    "        .insights {{\n",
    "            display: none;\n",
    "            position: absolute;\n",
    "            right: 10px;\n",
    "            top: 10px;\n",
    "            background-color: rgba(0, 0, 0, 0.7);\n",
    "            padding: 5px;\n",
    "            border-radius: 5px;\n",
    "            color: #fff;\n",
    "        }}\n",
    "        .plot-container:hover .insights {{\n",
    "            display: block;\n",
    "        }}\n",
    "    </style>\n",
    "    <script>\n",
    "        function openPlot(filename) {{\n",
    "            window.open(filename, '_blank');\n",
    "        }}\n",
    "    </script>\n",
    "</head>\n",
    "<body>\n",
    "    <div class=\"header\">\n",
    "        <img src=\"https://upload.wikimedia.org/wikipedia/commons/thumb/4/4a/Logo_2013_Google.png/800px-Logo_2013_Google.png\" alt=\"Google Logo\">\n",
    "        <h1>Analytics Dashboard</h1>\n",
    "        <img src=\"https://upload.wikimedia.org/wikipedia/commons/thumb/7/78/Google_Play_Store_badge_EN.svg/1024px-Google_Play_Store_badge_EN.svg.png\" alt=\"Google Play Store Logo\">\n",
    "    </div>\n",
    "    <div class=\"container\">\n",
    "        {plots}\n",
    "    </div>\n",
    "</body>\n",
    "</html>\n",
    "\"\"\""
   ]
  },
  {
   "cell_type": "code",
   "execution_count": null,
   "id": "0f341396-872c-4caf-a61a-0b59d833d276",
   "metadata": {},
   "outputs": [],
   "source": [
    "import webbrowser\n",
    "import os\n",
    "if not os.path.exists(html_files_path):\n",
    "    os.makedirs(html_files_path)"
   ]
  },
  {
   "cell_type": "code",
   "execution_count": null,
   "id": "d12f76cf-af75-4c05-a6fc-835d22d206bb",
   "metadata": {},
   "outputs": [],
   "source": [
    "final_html = dashboard_html.format(plots=plot_containers, plot_width=plot_width, plot_height=plot_height)"
   ]
  },
  {
   "cell_type": "code",
   "execution_count": null,
   "id": "5ef55dde-411f-479e-a480-eca2997736f8",
   "metadata": {},
   "outputs": [],
   "source": [
    "html_files_path = \"/home/user/Documents\"\n",
    "dashboard_path=os.path.join(html_files_path,'web page.html')"
   ]
  },
  {
   "cell_type": "code",
   "execution_count": null,
   "id": "a08e38a1-e62d-4fa9-90e1-2de5b0128b2d",
   "metadata": {},
   "outputs": [],
   "source": [
    "with open(dashboard_path, \"w\", encoding=\"utf-8\") as f:\n",
    "    f.write(final_html)"
   ]
  },
  {
   "cell_type": "code",
   "execution_count": null,
   "id": "359857d0-c058-42d6-9658-bf43dd6cea26",
   "metadata": {},
   "outputs": [],
   "source": [
    "webbrowser.open('file://' + os.path.realpath(dashboard_path))"
   ]
  },
  {
   "cell_type": "code",
   "execution_count": null,
   "id": "802f2a48-a225-402c-9a5b-c52c44bd4865",
   "metadata": {},
   "outputs": [],
   "source": []
  },
  {
   "cell_type": "code",
   "execution_count": null,
   "id": "d6c293b6-95bd-4bc6-aefb-4463cec4bc31",
   "metadata": {},
   "outputs": [],
   "source": []
  },
  {
   "cell_type": "code",
   "execution_count": null,
   "id": "1439493a-268a-47b0-be0b-1b152bf64d73",
   "metadata": {},
   "outputs": [],
   "source": []
  },
  {
   "cell_type": "code",
   "execution_count": null,
   "id": "4c6232c9-64ea-4525-924d-98730f5ef8ee",
   "metadata": {},
   "outputs": [],
   "source": []
  },
  {
   "cell_type": "code",
   "execution_count": null,
   "id": "2bdb3179-ed3a-4ad9-aeb1-773764f822b8",
   "metadata": {},
   "outputs": [],
   "source": []
  }
 ],
 "metadata": {
  "kernelspec": {
   "display_name": "Python 3 (ipykernel)",
   "language": "python",
   "name": "python3"
  },
  "language_info": {
   "codemirror_mode": {
    "name": "ipython",
    "version": 3
   },
   "file_extension": ".py",
   "mimetype": "text/x-python",
   "name": "python",
   "nbconvert_exporter": "python",
   "pygments_lexer": "ipython3",
   "version": "3.12.7"
  }
 },
 "nbformat": 4,
 "nbformat_minor": 5
}

{
 "cells": [
  {
   "cell_type": "code",
   "execution_count": null,
   "id": "4aab3507-72bc-4c15-87e8-d1e4e92a557f",
   "metadata": {},
   "outputs": [],
   "source": [
    "import pandas as pd\n",
    "import numpy as np\n",
    "import plotly.express as px\n",
    "import plotly.io as pio\n",
    "from sklearn.model_selection import train_test_split\n",
    "from sklearn.ensemble import RandomForestRegressor\n",
    "from sklearn.metrics import mean_squared_error, r2_score\n",
    "from nltk.sentiment.vader import SentimentIntensityAnalyzer\n",
    "import nltk\n",
    "import webbrowser\n",
    "import os"
   ]
  },
  {
   "cell_type": "code",
   "execution_count": null,
   "id": "573d8a47-b484-48bc-8450-a29b0e6d1995",
   "metadata": {},
   "outputs": [],
   "source": [
    "sia=SentimentIntensityAnalyzer()"
   ]
  },
  {
   "cell_type": "code",
   "execution_count": null,
   "id": "0961af54-b04c-4bbb-a65f-3bc13caf690c",
   "metadata": {},
   "outputs": [],
   "source": [
    "apps_df= pd.read_csv('PlayStoreData.csv')\n",
    "reviews_df=pd.read_csv('UserReviews.csv')"
   ]
  },
  {
   "cell_type": "code",
   "execution_count": null,
   "id": "996325bb-5344-432d-b845-aaedc2396e7c",
   "metadata": {},
   "outputs": [],
   "source": [
    "apps_df[\"Installs\"] = apps_df[\"Installs\"].replace({\"[,+]\": \"\"}, regex=True)"
   ]
  },
  {
   "cell_type": "code",
   "execution_count": null,
   "id": "f082a8f3-0acf-4200-97f0-efafe517ad1a",
   "metadata": {},
   "outputs": [],
   "source": [
    "apps_df[\"Installs\"] = apps_df[\"Installs\"].replace({\"Free\": np.nan})"
   ]
  },
  {
   "cell_type": "code",
   "execution_count": null,
   "id": "c8162320-f366-442c-b325-7c24c8896d25",
   "metadata": {},
   "outputs": [],
   "source": [
    "apps_df[\"Installs\"] = pd.to_numeric(apps_df[\"Installs\"], errors=\"coerce\")"
   ]
  },
  {
   "cell_type": "code",
   "execution_count": null,
   "id": "3b0407b3-9ef3-4956-a6b3-4428f3e26e7a",
   "metadata": {},
   "outputs": [],
   "source": [
    "apps_df[\"Installs\"] = apps_df[\"Installs\"].fillna(0).astype(int)"
   ]
  },
  {
   "cell_type": "code",
   "execution_count": null,
   "id": "bdaf47c3-48cc-4c4c-8088-285f9d990c73",
   "metadata": {},
   "outputs": [],
   "source": [
    "apps_df.head()"
   ]
  },
  {
   "cell_type": "code",
   "execution_count": null,
   "id": "bcbfde00-772a-4e25-a5cf-c4e4027213a7",
   "metadata": {},
   "outputs": [],
   "source": [
    "def convert_to_mb(size):\n",
    "    if size.endswith(\"M\"):\n",
    "        return float(size.replace(\"M\", \"\"))  \n",
    "    elif size.endswith(\"K\"):\n",
    "        return float(size.replace(\"K\", \"\")) * 0.001  \n",
    "    else:\n",
    "        return None"
   ]
  },
  {
   "cell_type": "code",
   "execution_count": null,
   "id": "99ab5b2d-e7c5-4c7f-9aa7-7e57c829567f",
   "metadata": {},
   "outputs": [],
   "source": [
    "apps_df[\"size_in_MB\"] = apps_df[\"Size\"].apply(convert_to_mb)"
   ]
  },
  {
   "cell_type": "code",
   "execution_count": null,
   "id": "154dad13-e385-4cdf-96c1-fda39779e3fc",
   "metadata": {},
   "outputs": [],
   "source": [
    "apps_df.head()"
   ]
  },
  {
   "cell_type": "code",
   "execution_count": null,
   "id": "7c7e9e30-6e12-4627-becb-7bfbb1c6fecf",
   "metadata": {},
   "outputs": [],
   "source": [
    "apps_df.count()"
   ]
  },
  {
   "cell_type": "code",
   "execution_count": null,
   "id": "9a2d8d84-d5c8-49b5-8e22-8e0ad7fc023a",
   "metadata": {},
   "outputs": [],
   "source": [
    "filtered_df = apps_df[(apps_df[\"Rating\"] > 3.5) & (apps_df[\"Category\"] == \"Games\") & (apps_df[\"Installs\"] > 50000)]"
   ]
  },
  {
   "cell_type": "code",
   "execution_count": null,
   "id": "39270acd-51b7-4331-88ba-68c33e37b2ec",
   "metadata": {},
   "outputs": [],
   "source": [
    "apps_df.dtypes"
   ]
  },
  {
   "cell_type": "code",
   "execution_count": null,
   "id": "af10642d-de3c-417a-8e66-8a72c0b9422d",
   "metadata": {},
   "outputs": [],
   "source": [
    "apps_df['Installs'] = pd.to_numeric(apps_df['Installs'], errors = 'coerce')"
   ]
  },
  {
   "cell_type": "code",
   "execution_count": null,
   "id": "e9376789-e50d-400f-a91e-36fcff6dde30",
   "metadata": {},
   "outputs": [],
   "source": [
    "apps_df.dtypes"
   ]
  },
  {
   "cell_type": "code",
   "execution_count": null,
   "id": "5945e3d1-1cbd-4645-8ce4-0c0e358e2f82",
   "metadata": {},
   "outputs": [],
   "source": [
    "filtered_df = apps_df[(apps_df[\"Rating\"] > 3.5) & (apps_df[\"Category\"] == \"Games\") & (apps_df[\"Installs\"] > 50000)]"
   ]
  },
  {
   "cell_type": "code",
   "execution_count": null,
   "id": "61a90c2c-45dd-444a-9cce-914dcf4ae62f",
   "metadata": {},
   "outputs": [],
   "source": [
    "filtered_df.count()"
   ]
  },
  {
   "cell_type": "code",
   "execution_count": null,
   "id": "1cd13315-a61d-41ae-801d-c3f16d38858a",
   "metadata": {},
   "outputs": [],
   "source": [
    "filtered_df.head()"
   ]
  },
  {
   "cell_type": "code",
   "execution_count": null,
   "id": "bc1a23fc-e705-4713-84c3-bb1151ec44b9",
   "metadata": {},
   "outputs": [],
   "source": [
    "rating_filter = apps_df[apps_df[\"Rating\"] > 3.5]"
   ]
  },
  {
   "cell_type": "code",
   "execution_count": null,
   "id": "ffd77609-77d4-4435-a6cf-b0768047ae57",
   "metadata": {},
   "outputs": [],
   "source": [
    "rating_filter.count()"
   ]
  },
  {
   "cell_type": "code",
   "execution_count": null,
   "id": "3f7dda29-5bd8-4922-84de-cfac75298810",
   "metadata": {},
   "outputs": [],
   "source": [
    "category_filter = apps_df[apps_df[\"Category\"] == \"GAME\"]"
   ]
  },
  {
   "cell_type": "code",
   "execution_count": null,
   "id": "02c31d26-7100-4b8f-bcee-786ee751b277",
   "metadata": {},
   "outputs": [],
   "source": [
    "category_filter.count()"
   ]
  },
  {
   "cell_type": "code",
   "execution_count": null,
   "id": "aba7b6dd-bc11-481d-afef-390221e4a64b",
   "metadata": {},
   "outputs": [],
   "source": [
    "apps_df.head()"
   ]
  },
  {
   "cell_type": "code",
   "execution_count": null,
   "id": "fa9ab337-b189-45f5-a991-360c8b4b1860",
   "metadata": {},
   "outputs": [],
   "source": [
    "filtered_df = apps_df[(apps_df[\"Rating\"] > 3.5) & (apps_df[\"Category\"] == \"GAME\") & (apps_df[\"Installs\"] > 50000)]"
   ]
  },
  {
   "cell_type": "code",
   "execution_count": null,
   "id": "186c0853-308e-4baa-a48c-edbe164c9845",
   "metadata": {},
   "outputs": [],
   "source": [
    "filtered_df.count()"
   ]
  },
  {
   "cell_type": "code",
   "execution_count": null,
   "id": "70cc7584-d098-485c-acd2-9b13ae67daa8",
   "metadata": {},
   "outputs": [],
   "source": [
    "installs_filter = apps_df[apps_df[\"Installs\"] > 50000]"
   ]
  },
  {
   "cell_type": "code",
   "execution_count": null,
   "id": "36c736ed-702e-4639-875d-5d6c6f03e74c",
   "metadata": {},
   "outputs": [],
   "source": [
    "installs_filter.count()"
   ]
  },
  {
   "cell_type": "code",
   "execution_count": null,
   "id": "13d319f0-b55d-4749-af43-900f7a581707",
   "metadata": {},
   "outputs": [],
   "source": [
    "filtered_df = apps_df[(apps_df[\"Rating\"] > 3.5) & (apps_df[\"Category\"] == \"GAME\") & (apps_df[\"Installs\"] > 50000)]"
   ]
  },
  {
   "cell_type": "code",
   "execution_count": null,
   "id": "20b8748c-43d9-4cc7-acd1-46d6c320f07e",
   "metadata": {},
   "outputs": [],
   "source": [
    "filtered_df.head()"
   ]
  },
  {
   "cell_type": "code",
   "execution_count": null,
   "id": "3cee9d30-fc93-4c08-8ee3-3fe180513610",
   "metadata": {},
   "outputs": [],
   "source": [
    "filtered_df.count()"
   ]
  },
  {
   "cell_type": "code",
   "execution_count": null,
   "id": "f8e10e62-65a4-4b70-85c7-aafa4cc51581",
   "metadata": {},
   "outputs": [],
   "source": [
    "from datetime import datetime"
   ]
  },
  {
   "cell_type": "code",
   "execution_count": null,
   "id": "20965e58-6b13-4daf-98f8-1d49353bba73",
   "metadata": {},
   "outputs": [],
   "source": [
    "current_time = datetime.now().time()\n",
    "start_time = datetime.strptime(\"12:00\", \"%H:%M\").time()\n",
    "end_time = datetime.strptime(\"16:00\", \"%H:%M\").time()"
   ]
  },
  {
   "cell_type": "code",
   "execution_count": null,
   "id": "4b561293-e9a5-4817-b1bd-2ff38ed7547e",
   "metadata": {},
   "outputs": [],
   "source": [
    "from datetime import datetime"
   ]
  },
  {
   "cell_type": "code",
   "execution_count": null,
   "id": "99d27a60-d9c6-4144-ad7e-701d8187ce67",
   "metadata": {},
   "outputs": [],
   "source": [
    "import plotly.express as px"
   ]
  },
  {
   "cell_type": "code",
   "execution_count": null,
   "id": "c34ea11c-2ff1-4bd1-aed7-99b0afba199f",
   "metadata": {},
   "outputs": [],
   "source": [
    "from IPython.display import display"
   ]
  },
  {
   "cell_type": "code",
   "execution_count": null,
   "id": "4a95ee7c-aed0-4d86-a78a-d0cbc11527e6",
   "metadata": {},
   "outputs": [],
   "source": [
    "html_files_path=\"./\"\n",
    "if not os.path.exists(html_files_path):\n",
    "    os.makedirs(html_files_path)"
   ]
  },
  {
   "cell_type": "code",
   "execution_count": null,
   "id": "b4a7cb17-73da-49f8-b6d5-057f05b90a35",
   "metadata": {},
   "outputs": [],
   "source": [
    "plot_containers=\"\""
   ]
  },
  {
   "cell_type": "code",
   "execution_count": null,
   "id": "1d30b436-715a-4852-af43-7a27627b94d6",
   "metadata": {},
   "outputs": [],
   "source": [
    "def save_plot_as_html(fig, filename, insight):\n",
    "    global plot_containers\n",
    "    filepath = os.path.join(html_files_path, filename)\n",
    "    html_content = pio.to_html(fig, full_html=False, include_plotlyjs='inline')\n",
    "    # Append the plot and its insight to plot_containers\n",
    "    plot_containers += f\"\"\"\n",
    "    <div class=\"plot-container\" id=\"{filename}\" onclick=\"openPlot('{filename}')\">\n",
    "        <div class=\"plot\">{html_content}</div>\n",
    "        <div class=\"insights\">{insight}</div>\n",
    "    </div>\n",
    "    \"\"\"\n",
    "    fig.write_html(filepath, full_html=False, include_plotlyjs='inline')"
   ]
  },
  {
   "cell_type": "code",
   "execution_count": null,
   "id": "40ee7b52-b720-44c2-be08-7ec47dfa5f90",
   "metadata": {},
   "outputs": [],
   "source": [
    "plot_width=400\n",
    "plot_height=300\n",
    "plot_bg_color='black'\n",
    "text_color='white'\n",
    "title_font={'size':16}\n",
    "axis_font={'size':12}"
   ]
  },
  {
   "cell_type": "code",
   "execution_count": null,
   "id": "9e6c549a-d568-4897-bc93-0b1628b22c93",
   "metadata": {},
   "outputs": [],
   "source": [
    "current_time = datetime.now().time()\n",
    "start_time = datetime.strptime(\"12:00\", \"%H:%M\").time()\n",
    "end_time = datetime.strptime(\"16:00\", \"%H:%M\").time()"
   ]
  },
  {
   "cell_type": "code",
   "execution_count": null,
   "id": "c48ff413-fc35-4a41-940f-68008baf8843",
   "metadata": {},
   "outputs": [],
   "source": [
    "if start_time <= current_time <= end_time:\n",
    "    # Create the bubble chart\n",
    "    fig3 = px.scatter(\n",
    "    filtered_df,\n",
    "    x=\"size_in_MB\",  # Use the correct column name\n",
    "    y=\"Rating\",\n",
    "    size=\"Installs\",\n",
    "    color=\"App\",\n",
    "    title=\"Relationship between App Size and Average Rating for Games (Installs > 50k, Rating > 3.5)\",\n",
    "    labels={\"size_in_MB\": \"App Size (MB)\", \"Rating\": \"Average Rating\"},\n",
    "    size_max=60)\n",
    "    fig3.update_layout(\n",
    "    width=1200,  # Match the width of the container\n",
    "    height=400,  # Match the height of the container\n",
    "    )\n",
    "    save_plot_as_html(fig3, \"Bubble plot.html\", \"This is a bubble plot\")\n",
    "    fig3.show()\n",
    "else:\n",
    "        print(\"The chart can only be displayed between 12 PM and 4 PM.\")"
   ]
  },
  {
   "cell_type": "code",
   "execution_count": null,
   "id": "24c047b2-7347-41ba-89bf-17f88fe09f9c",
   "metadata": {},
   "outputs": [],
   "source": [
    "dashboard_html = \"\"\"\n",
    "<!DOCTYPE html>\n",
    "<html lang=\"en\">\n",
    "<head>\n",
    "    <meta charset=\"UTF-8\">\n",
    "    <meta name=\"viewport\" content=\"width=device-width, initial-scale=1.0\">\n",
    "    <title>Analytics Dashboard</title>\n",
    "    <style>\n",
    "        body {{\n",
    "            font-family: Arial, sans-serif;\n",
    "            background-color: #333;\n",
    "            color: #fff;\n",
    "            margin: 0;\n",
    "            padding: 0;\n",
    "        }}\n",
    "        .header {{\n",
    "            display: flex;\n",
    "            align-items: center;\n",
    "            justify-content: center;\n",
    "            padding: 20px;\n",
    "            background-color: #444;\n",
    "        }}\n",
    "        .header img {{\n",
    "            margin: 0 10px;\n",
    "            height: 50px;\n",
    "        }}\n",
    "        .container {{\n",
    "            display: flex;\n",
    "            flex-wrap: wrap;\n",
    "            justify-content: center;\n",
    "            padding: 50px;\n",
    "        }}\n",
    "        .plot-container {{\n",
    "            border: 2px solid #555;\n",
    "            margin: 10px;\n",
    "            padding: 10px;\n",
    "            width: {plot_width}px;\n",
    "            height: {plot_height}px;\n",
    "            overflow: hidden;\n",
    "            position: relative;\n",
    "            cursor: pointer;\n",
    "        }}\n",
    "        .insights {{\n",
    "            display: none;\n",
    "            position: absolute;\n",
    "            right: 10px;\n",
    "            top: 10px;\n",
    "            background-color: rgba(0, 0, 0, 0.7);\n",
    "            padding: 5px;\n",
    "            border-radius: 5px;\n",
    "            color: #fff;\n",
    "        }}\n",
    "        .plot-container:hover .insights {{\n",
    "            display: block;\n",
    "        }}\n",
    "    </style>\n",
    "    <script>\n",
    "        function openPlot(filename) {{\n",
    "            window.open(filename, '_blank');\n",
    "        }}\n",
    "    </script>\n",
    "</head>\n",
    "<body>\n",
    "    <div class=\"header\">\n",
    "        <img src=\"https://upload.wikimedia.org/wikipedia/commons/thumb/4/4a/Logo_2013_Google.png/800px-Logo_2013_Google.png\" alt=\"Google Logo\">\n",
    "        <h1>Analytics Dashboard</h1>\n",
    "        <img src=\"https://upload.wikimedia.org/wikipedia/commons/thumb/7/78/Google_Play_Store_badge_EN.svg/1024px-Google_Play_Store_badge_EN.svg.png\" alt=\"Google Play Store Logo\">\n",
    "    </div>\n",
    "    <div class=\"container\">\n",
    "        {plots}\n",
    "    </div>\n",
    "</body>\n",
    "</html>\n",
    "\"\"\""
   ]
  },
  {
   "cell_type": "code",
   "execution_count": null,
   "id": "dd8c9690-5d0b-469b-9fea-74da586309a4",
   "metadata": {},
   "outputs": [],
   "source": [
    "final_html = dashboard_html.format(plots=plot_containers, plot_width=plot_width, plot_height=plot_height)"
   ]
  },
  {
   "cell_type": "code",
   "execution_count": null,
   "id": "e60c21b3-8d5e-4a0e-ab41-7d2cda5ff71a",
   "metadata": {},
   "outputs": [],
   "source": [
    "dashboard_path=os.path.join(html_files_path,'web page.html')"
   ]
  },
  {
   "cell_type": "code",
   "execution_count": null,
   "id": "bb64bfaa-f29a-401d-a6be-0a19a6bad349",
   "metadata": {},
   "outputs": [],
   "source": [
    "with open(dashboard_path, \"w\", encoding=\"utf-8\") as f:\n",
    "    f.write(final_html)"
   ]
  },
  {
   "cell_type": "code",
   "execution_count": null,
   "id": "87c5897f-e57a-4e10-805a-17c18a64c5d1",
   "metadata": {},
   "outputs": [],
   "source": [
    "import webbrowser\n",
    "import os"
   ]
  },
  {
   "cell_type": "code",
   "execution_count": null,
   "id": "c29f143a-8985-47b4-89d4-38b0d349b196",
   "metadata": {},
   "outputs": [],
   "source": [
    "webbrowser.open('file://' + os.path.realpath(dashboard_path))"
   ]
  },
  {
   "cell_type": "code",
   "execution_count": null,
   "id": "fc3ac48e-d064-4035-9e5b-8cfdf4e215ed",
   "metadata": {},
   "outputs": [],
   "source": []
  }
 ],
 "metadata": {
  "kernelspec": {
   "display_name": "Python 3 (ipykernel)",
   "language": "python",
   "name": "python3"
  },
  "language_info": {
   "codemirror_mode": {
    "name": "ipython",
    "version": 3
   },
   "file_extension": ".py",
   "mimetype": "text/x-python",
   "name": "python",
   "nbconvert_exporter": "python",
   "pygments_lexer": "ipython3",
   "version": "3.12.7"
  }
 },
 "nbformat": 4,
 "nbformat_minor": 5
}

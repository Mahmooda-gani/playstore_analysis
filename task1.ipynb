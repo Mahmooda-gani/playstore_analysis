{
 "cells": [
  {
   "cell_type": "code",
   "execution_count": null,
   "id": "67339fdf-d47b-4131-b27f-df6e74b824c9",
   "metadata": {},
   "outputs": [],
   "source": [
    "import pandas as pd\n",
    "import numpy as np\n",
    "import plotly.express as px\n",
    "import plotly.io as pio\n",
    "from sklearn.model_selection import train_test_split\n",
    "from sklearn.ensemble import RandomForestRegressor\n",
    "from sklearn.metrics import mean_squared_error, r2_score\n",
    "from nltk.sentiment.vader import SentimentIntensityAnalyzer\n",
    "import nltk\n",
    "import webbrowser\n",
    "import os"
   ]
  },
  {
   "cell_type": "code",
   "execution_count": null,
   "id": "eae4e04e-3e8e-4d46-a1cc-4493f6cbc919",
   "metadata": {},
   "outputs": [],
   "source": [
    "sia=SentimentIntensityAnalyzer()"
   ]
  },
  {
   "cell_type": "code",
   "execution_count": null,
   "id": "913d5cd4-858a-4958-bf41-afb7dc8c61c2",
   "metadata": {},
   "outputs": [],
   "source": [
    "apps_df= pd.read_csv('PlayStoreData.csv')\n",
    "reviews_df=pd.read_csv('UserReviews.csv')"
   ]
  },
  {
   "cell_type": "code",
   "execution_count": null,
   "id": "0b6ecf4e-f19b-4b14-89e6-655fa0a7116b",
   "metadata": {},
   "outputs": [],
   "source": [
    "apps_df['Reviews'] = pd.to_numeric(apps_df['Reviews'], errors='coerce')"
   ]
  },
  {
   "cell_type": "code",
   "execution_count": null,
   "id": "4b388986-e318-47a3-8279-0a346bffd501",
   "metadata": {},
   "outputs": [],
   "source": [
    "apps_df.dtypes"
   ]
  },
  {
   "cell_type": "code",
   "execution_count": null,
   "id": "ff3cc5bf-ae66-4a9b-891e-20f2c642b445",
   "metadata": {},
   "outputs": [],
   "source": [
    "reviews_df['sentiment_score'] = reviews_df['Translated_Review'].apply(lambda x: sia.polarity_scores(str(x))['compound'])"
   ]
  },
  {
   "cell_type": "code",
   "execution_count": null,
   "id": "71c95252-1cae-4343-97ff-ccf4f84c44a0",
   "metadata": {},
   "outputs": [],
   "source": [
    "reviews_df.head()"
   ]
  },
  {
   "cell_type": "code",
   "execution_count": null,
   "id": "0f324547-bd3f-45c9-9922-8be4d6a6dbc6",
   "metadata": {},
   "outputs": [],
   "source": [
    "bins = [0, 2, 4, 5] \n",
    "labels = ['1-2 stars', '3-4 stars', '4-5 stars']  # Label for each bin\n",
    "apps_df.loc[:, 'rating_group'] = pd.cut(apps_df['Rating'], bins=bins, labels=labels, right=False)"
   ]
  },
  {
   "cell_type": "code",
   "execution_count": null,
   "id": "f7f08fe3-ab0d-4621-8471-c422a57ff6ac",
   "metadata": {},
   "outputs": [],
   "source": [
    "apps_df.head()"
   ]
  },
  {
   "cell_type": "code",
   "execution_count": null,
   "id": "d6dcd586-8dc0-4a79-a8c8-ab067503c3ee",
   "metadata": {},
   "outputs": [],
   "source": [
    "merged_df = pd.merge(apps_df, reviews_df, on=\"App\")\n",
    "merged_df = merged_df.drop_duplicates()"
   ]
  },
  {
   "cell_type": "code",
   "execution_count": null,
   "id": "20153b40-d730-410a-8532-abc188df1e0b",
   "metadata": {
    "scrolled": true
   },
   "outputs": [],
   "source": [
    "merged_df.head()"
   ]
  },
  {
   "cell_type": "code",
   "execution_count": null,
   "id": "abb1e87b-fd74-407d-9e38-6629da883822",
   "metadata": {},
   "outputs": [],
   "source": [
    "filtered_df=merged_df[merged_df['Reviews']>1000]"
   ]
  },
  {
   "cell_type": "code",
   "execution_count": null,
   "id": "86a0af78-b007-40ef-b5ef-043bab222d8d",
   "metadata": {},
   "outputs": [],
   "source": [
    "print(filtered_df['Category'].value_counts())"
   ]
  },
  {
   "cell_type": "code",
   "execution_count": null,
   "id": "2fb2954e-1912-4823-af64-a69a2581ab98",
   "metadata": {},
   "outputs": [],
   "source": [
    "top_categories = ['GAME', 'FAMILY', 'HEALTH_AND_FITNESS', 'TRAVEL_AND_LOCAL', 'TOOLS']"
   ]
  },
  {
   "cell_type": "code",
   "execution_count": null,
   "id": "1e4bdbc9-be7a-449b-83fe-79472876af4c",
   "metadata": {},
   "outputs": [],
   "source": [
    "top_Category_df = filtered_df[filtered_df['Category'].isin(top_categories)]"
   ]
  },
  {
   "cell_type": "code",
   "execution_count": null,
   "id": "d90e45a0-ffaa-4aa7-9ddd-e433af612c48",
   "metadata": {},
   "outputs": [],
   "source": [
    "print(top_Category_df[['App', 'Category', 'Reviews', 'Rating','sentiment_score','rating_group']])  "
   ]
  },
  {
   "cell_type": "code",
   "execution_count": null,
   "id": "9a8cccae-9091-479f-afdd-317ec31d3871",
   "metadata": {},
   "outputs": [],
   "source": [
    "import plotly.express as px"
   ]
  },
  {
   "cell_type": "code",
   "execution_count": null,
   "id": "edca9665-3477-463c-8a2c-15ad8f43cdcc",
   "metadata": {},
   "outputs": [],
   "source": [
    "top_Category_df.loc[:, 'Sentiment_Category'] = top_Category_df['sentiment_score'].apply(\n",
    "    lambda x: 'Positive' if x > 0.1 else ('Negative' if x < -0.1 else 'Neutral')\n",
    ")"
   ]
  },
  {
   "cell_type": "code",
   "execution_count": null,
   "id": "3a46d0d1-f409-470f-9f9e-5e5a3add7088",
   "metadata": {},
   "outputs": [],
   "source": [
    "sentiment_counts = top_Category_df.groupby(['rating_group', 'Sentiment_Category'], observed=True).size().reset_index(name='count')"
   ]
  },
  {
   "cell_type": "code",
   "execution_count": null,
   "id": "04214049-9588-4075-bfdc-59841662e791",
   "metadata": {},
   "outputs": [],
   "source": [
    "import plotly.express as px\n",
    "import plotly.io as pio"
   ]
  },
  {
   "cell_type": "code",
   "execution_count": null,
   "id": "82bc2b74-eba7-494f-afcf-6fe7efdb7561",
   "metadata": {},
   "outputs": [],
   "source": [
    "from IPython.display import display"
   ]
  },
  {
   "cell_type": "code",
   "execution_count": null,
   "id": "c3f638c5-c7b8-425a-8e96-e69bc711cfa8",
   "metadata": {},
   "outputs": [],
   "source": [
    "html_files_path=\"./\"\n",
    "if not os.path.exists(html_files_path):\n",
    "    os.makedirs(html_files_path)"
   ]
  },
  {
   "cell_type": "code",
   "execution_count": null,
   "id": "32f4c698-fc1f-4b8d-ae67-eaad0038be2e",
   "metadata": {},
   "outputs": [],
   "source": [
    "plot_containers=\"\""
   ]
  },
  {
   "cell_type": "code",
   "execution_count": null,
   "id": "4f706cef-cba3-4c1a-abb8-1290abfbbe5d",
   "metadata": {},
   "outputs": [],
   "source": [
    "# Save each Plotly figure to an HTML file\n",
    "def save_plot_as_html(fig, filename, insight):\n",
    "    global plot_containers\n",
    "    filepath = os.path.join(html_files_path, filename)\n",
    "    html_content = pio.to_html(fig, full_html=False, include_plotlyjs='inline')\n",
    "    # Append the plot and its insight to plot_containers\n",
    "    plot_containers += f\"\"\"\n",
    "    <div class=\"plot-container\" id=\"{filename}\" onclick=\"openPlot('{filename}')\">\n",
    "        <div class=\"plot\">{html_content}</div>\n",
    "        <div class=\"insights\">{insight}</div>\n",
    "    </div>\n",
    "    \"\"\"\n",
    "    fig.write_html(filepath, full_html=False, include_plotlyjs='inline')"
   ]
  },
  {
   "cell_type": "code",
   "execution_count": null,
   "id": "7f92466c-78fd-4b09-b6bd-7a4ea210398b",
   "metadata": {},
   "outputs": [],
   "source": [
    "plot_width=600\n",
    "plot_height=300\n",
    "plot_bg_color='black'\n",
    "text_color='white'\n",
    "title_font={'size':16}\n",
    "axis_font={'size':12}"
   ]
  },
  {
   "cell_type": "code",
   "execution_count": null,
   "id": "613a78bc-1844-4904-97e6-8b1094c6a57a",
   "metadata": {},
   "outputs": [],
   "source": [
    "fig1= px.bar(\n",
    "    sentiment_counts, \n",
    "    x='rating_group',  # x-axis: Rating group (e.g., 1-2 stars, 3-4 stars, etc.)\n",
    "    y='count',  # y-axis: Sentiment count\n",
    "    color='Sentiment_Category',  # Color by Sentiment_Category (Positive, Negative, Neutral)\n",
    "    title='Sentiment Distribution by Rating Group',  # Chart title\n",
    "    labels={'rating_group': 'Rating Group', 'count': 'Sentiment Count', 'Sentiment_Category': 'Sentiment'},  # Labels for axes\n",
    "    barmode='stack',  # Stack the bars\n",
    "    width=800,  # Adjust width of the chart\n",
    "    height=500  # Adjust height of the chart\n",
    ")\n",
    "fig1.update_layout(\n",
    "        xaxis_title='Category',\n",
    "        yaxis_title='Rating',\n",
    "        plot_bgcolor='black',\n",
    "        paper_bgcolor='black',\n",
    "        font_color='white',\n",
    "        title_font=dict(size=16),\n",
    "        xaxis=dict(title_font=dict(size=12)),\n",
    "        yaxis=dict(title_font=dict(size=12)),\n",
    "        margin=dict(l=20, r=20, t=40, b=20)\n",
    ")\n",
    "save_plot_as_html(fig1, \"stacked bar chart.html\", \"This is a scattered plot\")"
   ]
  },
  {
   "cell_type": "code",
   "execution_count": null,
   "id": "c7933d51-5994-4f45-8a01-6997a17dc9e1",
   "metadata": {},
   "outputs": [],
   "source": [
    "fig1.show()"
   ]
  },
  {
   "cell_type": "code",
   "execution_count": null,
   "id": "f6bae898-0ee1-4d2b-9da0-80dedc0e8adb",
   "metadata": {},
   "outputs": [],
   "source": [
    "dashboard_html = \"\"\"\n",
    "<!DOCTYPE html>\n",
    "<html lang=\"en\">\n",
    "<head>\n",
    "    <meta charset=\"UTF-8\">\n",
    "    <meta name=\"viewport\" content=\"width=device-width, initial-scale=1.0\">\n",
    "    <title>Analytics Dashboard</title>\n",
    "    <style>\n",
    "        body {{\n",
    "            font-family: Arial, sans-serif;\n",
    "            background-color: #333;\n",
    "            color: #fff;\n",
    "            margin: 0;\n",
    "            padding: 0;\n",
    "        }}\n",
    "        .header {{\n",
    "            display: flex;\n",
    "            align-items: center;\n",
    "            justify-content: center;\n",
    "            padding: 20px;\n",
    "            background-color: #444;\n",
    "        }}\n",
    "        .header img {{\n",
    "            margin: 0 10px;\n",
    "            height: 50px;\n",
    "        }}\n",
    "        .container {{\n",
    "            display: flex;\n",
    "            flex-wrap: wrap;\n",
    "            justify-content: center;\n",
    "            padding: 20px;\n",
    "        }}\n",
    "        .plot-container {{\n",
    "            border: 2px solid #555;\n",
    "            margin: 10px;\n",
    "            padding: 10px;\n",
    "            width: {plot_width}px;\n",
    "            height: {plot_height}px;\n",
    "            overflow: hidden;\n",
    "            position: relative;\n",
    "            cursor: pointer;\n",
    "        }}\n",
    "        .insights {{\n",
    "            display: none;\n",
    "            position: absolute;\n",
    "            right: 10px;\n",
    "            top: 10px;\n",
    "            background-color: rgba(0, 0, 0, 0.7);\n",
    "            padding: 5px;\n",
    "            border-radius: 5px;\n",
    "            color: #fff;\n",
    "        }}\n",
    "        .plot-container:hover .insights {{\n",
    "            display: block;\n",
    "        }}\n",
    "    </style>\n",
    "    <script>\n",
    "        function openPlot(filename) {{\n",
    "            window.open(filename, '_blank');\n",
    "        }}\n",
    "    </script>\n",
    "</head>\n",
    "<body>\n",
    "    <div class=\"header\">\n",
    "        <img src=\"https://upload.wikimedia.org/wikipedia/commons/thumb/4/4a/Logo_2013_Google.png/800px-Logo_2013_Google.png\" alt=\"Google Logo\">\n",
    "        <h1>Analytics Dashboard</h1>\n",
    "        <img src=\"https://upload.wikimedia.org/wikipedia/commons/thumb/7/78/Google_Play_Store_badge_EN.svg/1024px-Google_Play_Store_badge_EN.svg.png\" alt=\"Google Play Store Logo\">\n",
    "    </div>\n",
    "    <div class=\"container\">\n",
    "        {plots}\n",
    "    </div>\n",
    "</body>\n",
    "</html>\n",
    "\"\"\""
   ]
  },
  {
   "cell_type": "code",
   "execution_count": null,
   "id": "592b5f47-9e90-4c12-ace5-6c447b89ee22",
   "metadata": {},
   "outputs": [],
   "source": [
    "import webbrowser\n",
    "import os"
   ]
  },
  {
   "cell_type": "code",
   "execution_count": null,
   "id": "3fe187b5-76dc-4098-9e4b-735b235f5879",
   "metadata": {},
   "outputs": [],
   "source": [
    "final_html = dashboard_html.format(plots=plot_containers, plot_width=plot_width, plot_height=plot_height)"
   ]
  },
  {
   "cell_type": "code",
   "execution_count": null,
   "id": "21dcc1dd-90f7-47ad-a609-7443fe8cc8db",
   "metadata": {},
   "outputs": [],
   "source": [
    "dashboard_path=os.path.join(html_files_path,'web page.html')"
   ]
  },
  {
   "cell_type": "code",
   "execution_count": null,
   "id": "1df3f7d4-36f1-46ea-968f-026e1fe69b78",
   "metadata": {},
   "outputs": [],
   "source": [
    "with open(dashboard_path, \"w\", encoding=\"utf-8\") as f:\n",
    "    f.write(final_html)"
   ]
  },
  {
   "cell_type": "code",
   "execution_count": null,
   "id": "4faedba3-74c1-4ed6-b5ee-cb114d444268",
   "metadata": {},
   "outputs": [],
   "source": [
    "webbrowser.open('file://' + os.path.realpath(dashboard_path))"
   ]
  },
  {
   "cell_type": "code",
   "execution_count": null,
   "id": "2a0cf3e4-3c21-40b4-82c2-1f276730de94",
   "metadata": {},
   "outputs": [],
   "source": []
  }
 ],
 "metadata": {
  "kernelspec": {
   "display_name": "Python 3 (ipykernel)",
   "language": "python",
   "name": "python3"
  },
  "language_info": {
   "codemirror_mode": {
    "name": "ipython",
    "version": 3
   },
   "file_extension": ".py",
   "mimetype": "text/x-python",
   "name": "python",
   "nbconvert_exporter": "python",
   "pygments_lexer": "ipython3",
   "version": "3.12.7"
  }
 },
 "nbformat": 4,
 "nbformat_minor": 5
}
